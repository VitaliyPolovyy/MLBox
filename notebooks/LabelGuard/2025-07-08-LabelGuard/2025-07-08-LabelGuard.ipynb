{
 "cells": [
  {
   "cell_type": "code",
   "execution_count": 2,
   "metadata": {},
   "outputs": [],
   "source": [
    "import fitz  # PyMuPDF\n",
    "from pathlib import Path\n",
    "import pandas as pd\n",
    "from mlbox.settings import ROOT_DIR\n",
    "\n",
    "CURRENT_DIR = Path.cwd()\n",
    "input_folder = ROOT_DIR / \"tmp\" / CURRENT_DIR.name / \"input\"\n",
    "result_folder = ROOT_DIR / \"tmp\" / CURRENT_DIR.name / \"output\""
   ]
  },
  {
   "cell_type": "code",
   "execution_count": null,
   "metadata": {},
   "outputs": [],
   "source": [
    "from pathlib import Path\n",
    "import fitz  # PyMuPDF\n",
    "from PIL import Image\n",
    "import io\n",
    "\n",
    "pdf_path = ROOT_DIR / \"assets\" / \"LabelGuard\" / \"input\" / \"Lovita_CC_Glazur_150g_UNI_v181224E__tt.pdf\"\n",
    "output_dir = ROOT_DIR / \"assets\" / \"LabelGuard\" / \"blocks\"\n",
    "output_dir.mkdir(parents=True, exist_ok=True)\n",
    "\n",
    "doc = fitz.open(pdf_path)\n",
    "\n",
    "for page_num in range(len(doc)):\n",
    "    page = doc[page_num]\n",
    "    text_dict = page.get_text(\"dict\")\n",
    "    for block_num, block in enumerate(text_dict[\"blocks\"]):\n",
    "        if block[\"type\"] == 0:  # text\n",
    "            bbox = block[\"bbox\"]\n",
    "            # Extract and print text\n",
    "            text = \" \".join(span[\"text\"] for line in block[\"lines\"] for span in line[\"spans\"])\n",
    "            print(f\"Page {page_num+1}, Block {block_num+1} text:\\n{text}\\n\")\n",
    "            # Render only bbox region\n",
    "            clip = fitz.Rect(bbox)\n",
    "            pix = page.get_pixmap(clip=clip, dpi=300)\n",
    "            image_path = output_dir / f\"page{page_num+1}_block{block_num+1}.png\"\n",
    "            pix.save(image_path)\n",
    "\n",
    "doc.close()\n"
   ]
  },
  {
   "cell_type": "code",
   "execution_count": null,
   "metadata": {},
   "outputs": [],
   "source": [
    "ai_path = ROOT_DIR / \"assets\" / \"LabelGuard\" / \"input\" / \"Lovita_CC_Glazur_150g_UNI_v181224E копія.ai\"\n",
    "\n",
    "doc = fitz.open(ai_path)\n",
    "text = \"\"\n",
    "for page in doc:\n",
    "    text += page.get_text()\n",
    "print(text)"
   ]
  },
  {
   "cell_type": "code",
   "execution_count": null,
   "metadata": {},
   "outputs": [],
   "source": [
    "from pathlib import Path\n",
    "from bs4 import BeautifulSoup\n",
    "from PIL import Image, ImageDraw\n",
    "from mlbox.settings import ROOT_DIR\n",
    "\n",
    "svg_path   = ROOT_DIR / \"assets\" / \"LabelGuard\" / \"input\" / \"Lovita_CC_Glazur_150g_UNI_v181224E.svg\"\n",
    "jpeg_path  = ROOT_DIR / \"assets\" / \"LabelGuard\" / \"input\" / \"Lovita_CC_Glazur_150g_UNI_v181224E__tt__curv_1.jpg\"\n",
    "out_path   = ROOT_DIR / \"assets\" / \"LabelGuard\" / \"input\" / \"bbox_overlay.jpg\"\n",
    "\n",
    "# 1. Read SVG\n",
    "with open(svg_path, \"r\", encoding=\"utf-8\") as f:\n",
    "    soup = BeautifulSoup(f, \"xml\")\n",
    "\n",
    "svg_root = soup.find(\"svg\")\n",
    "\n",
    "# 2. Get SVG viewBox for proper scaling\n",
    "viewbox = svg_root.get(\"viewBox\")\n",
    "if viewbox:\n",
    "    _, _, svg_w, svg_h = map(float, viewbox.split())\n",
    "else:\n",
    "    svg_w = float(svg_root.get(\"width\", 1000))\n",
    "    svg_h = float(svg_root.get(\"height\", 1000))\n",
    "\n",
    "# 3. Create blank image\n",
    "blank_img_w, blank_img_h = int(svg_w), int(svg_h)\n",
    "img  = Image.new(\"RGB\", (blank_img_w, blank_img_h), color=\"white\")\n",
    "draw = ImageDraw.Draw(img)\n",
    "\n",
    "# 4. Parse boxes\n",
    "boxes = [(float(r.get(\"x\", 0)),\n",
    "          float(r.get(\"y\", 0)),\n",
    "          float(r.get(\"width\", 0)),\n",
    "          float(r.get(\"height\", 0))) for r in soup.find_all(\"rect\")]\n",
    "\n",
    "# 5. Draw boxes directly\n",
    "for x, y, w, h in boxes:\n",
    "    draw.rectangle([x, y, x + w, y + h], outline=\"red\", width=2)\n",
    "\n",
    "img.save(out_path)\n",
    "img.show()\n"
   ]
  },
  {
   "cell_type": "code",
   "execution_count": null,
   "metadata": {},
   "outputs": [],
   "source": [
    "from fontTools.ttLib import TTFont\n",
    "\n",
    "font_path   = ROOT_DIR / \"assets\" / \"LabelGuard\" / \"input\" / \"fonts\" / \"NotoSans-ExtraCondensed.otf\"\n",
    "font = TTFont(font_path)\n",
    "\n",
    "# List all cmap tables (character-to-glyph maps)\n",
    "for table in font['cmap'].tables:\n",
    "    print(f\"Platform ID: {table.platformID}, Encoding ID: {table.platEncID}, Format: {table.format}\")\n",
    "    print(f\"Contains {len(table.cmap)} mappings\")\n",
    "    sample = list(table.cmap.items())[:5]\n",
    "    for code, name in sample:\n",
    "        print(f\" U+{code:04X} → {name}\")\n",
    "    print(\"-\" * 30)\n"
   ]
  },
  {
   "cell_type": "code",
   "execution_count": null,
   "metadata": {},
   "outputs": [],
   "source": [
    "import fitz  # PyMuPDF\n",
    "\n",
    "pdf_path   = ROOT_DIR / \"assets\" / \"LabelGuard\" / \"input\" / \"Lovita_CC_Glazur_150g_UNI_v181224E__tt.pdf\"\n",
    "doc = fitz.open(pdf_path)\n",
    "\n",
    "\n",
    "for page_num in range(len(doc)):\n",
    "    page = doc[page_num]\n",
    "    fonts = page.get_fonts(full=True)\n",
    "    print(f\"--- Page {page_num + 1} ---\")\n",
    "    for font in fonts:\n",
    "        print(f\"Font: {font[3]} | Subset: {font[2]}\")\n"
   ]
  }
 ],
 "metadata": {
  "kernelspec": {
   "display_name": ".venv",
   "language": "python",
   "name": "python3"
  },
  "language_info": {
   "codemirror_mode": {
    "name": "ipython",
    "version": 3
   },
   "file_extension": ".py",
   "mimetype": "text/x-python",
   "name": "python",
   "nbconvert_exporter": "python",
   "pygments_lexer": "ipython3",
   "version": "3.11.8"
  }
 },
 "nbformat": 4,
 "nbformat_minor": 2
}
